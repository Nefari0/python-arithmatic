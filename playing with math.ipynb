{
 "cells": [
  {
   "cell_type": "code",
   "execution_count": 163,
   "metadata": {},
   "outputs": [],
   "source": [
    "import numpy as np\n",
    "import sympy as sym\n",
    "import math\n",
    "from IPython.display import display,Math\n",
    "import matplotlib.pyplot as plt\n",
    "from matplotlib.patches import Polygon"
   ]
  },
  {
   "cell_type": "code",
   "execution_count": 591,
   "metadata": {},
   "outputs": [
    {
     "data": {
      "text/latex": [
       "$\\displaystyle w + x - 15$"
      ],
      "text/plain": [
       "w + x - 15"
      ]
     },
     "metadata": {},
     "output_type": "display_data"
    },
    {
     "data": {
      "text/plain": [
       "[14 - y]"
      ]
     },
     "metadata": {},
     "output_type": "display_data"
    }
   ],
   "source": [
    "w,x,y,z = sym.symbols('w,x,y,z')\n",
    "\n",
    "solvex = [0]\n",
    "expr1 = x + y - 14\n",
    "expr2 = w - z -10\n",
    "expr3 = x + w - 15\n",
    "expr4 = y + z -16\n",
    "\n",
    "solvex[0] = sym.solve(expr1,x)\n",
    "display(expr3.subs({x:solvex[0]}))\n",
    "display(solvex[0])"
   ]
  },
  {
   "cell_type": "code",
   "execution_count": 502,
   "metadata": {},
   "outputs": [
    {
     "data": {
      "text/plain": [
       "{w: 14 - x}"
      ]
     },
     "metadata": {},
     "output_type": "display_data"
    },
    {
     "data": {
      "text/plain": [
       "{y: z + 10}"
      ]
     },
     "metadata": {},
     "output_type": "display_data"
    },
    {
     "data": {
      "text/plain": [
       "{w: 15 - y}"
      ]
     },
     "metadata": {},
     "output_type": "display_data"
    },
    {
     "data": {
      "text/plain": [
       "{x: 16 - z}"
      ]
     },
     "metadata": {},
     "output_type": "display_data"
    }
   ],
   "source": [
    "w,x,y,z = sym.symbols('w,x,y,z')\n",
    "# y = 14 - x\n",
    "# y = 16 - z\n",
    "expr1 = [w + x -14]\n",
    "expr2 = [y - z -10]\n",
    "expr3 = [w + y -15]\n",
    "expr4 = [x + z -16]\n",
    "\n",
    "exlist = [expr1,expr2,expr3,expr4]\n",
    "\n",
    "for i in range(len(exlist)):\n",
    "    display(sym.solve(exlist[i]))\n"
   ]
  },
  {
   "cell_type": "code",
   "execution_count": 508,
   "metadata": {},
   "outputs": [
    {
     "data": {
      "text/plain": [
       "{w: 14 - x}"
      ]
     },
     "metadata": {},
     "output_type": "display_data"
    },
    {
     "data": {
      "text/plain": [
       "{x: 14 - w}"
      ]
     },
     "metadata": {},
     "output_type": "display_data"
    },
    {
     "data": {
      "text/plain": [
       "{y: z + 10}"
      ]
     },
     "metadata": {},
     "output_type": "display_data"
    },
    {
     "data": {
      "text/plain": [
       "{z: y - 10}"
      ]
     },
     "metadata": {},
     "output_type": "display_data"
    }
   ],
   "source": [
    "expr1 = [w + x - 14]\n",
    "expr2 = [y - z - 10]\n",
    "\n",
    "display(sym.solve(expr1,w))\n",
    "display(sym.solve(expr1,x))\n",
    "display(sym.solve(expr2,y))\n",
    "display(sym.solve(expr2,z))\n"
   ]
  },
  {
   "cell_type": "code",
   "execution_count": 520,
   "metadata": {},
   "outputs": [
    {
     "data": {
      "text/plain": [
       "{x: z + 9}"
      ]
     },
     "metadata": {},
     "output_type": "display_data"
    },
    {
     "data": {
      "text/plain": [
       "{z: x - 9}"
      ]
     },
     "metadata": {},
     "output_type": "display_data"
    },
    {
     "data": {
      "text/plain": [
       "{w: y - 12}"
      ]
     },
     "metadata": {},
     "output_type": "display_data"
    },
    {
     "data": {
      "text/plain": [
       "{y: w + 12}"
      ]
     },
     "metadata": {},
     "output_type": "display_data"
    }
   ],
   "source": [
    "expr1 = [14 - x + z + 10 - 15]\n",
    "expr2 = [14 - w + y - 10 - 16]\n",
    "display(sym.solve(expr1,x))\n",
    "display(sym.solve(expr1,z))\n",
    "display(sym.solve(expr2,w))\n",
    "display(sym.solve(expr2,y))"
   ]
  },
  {
   "cell_type": "code",
   "execution_count": 532,
   "metadata": {},
   "outputs": [
    {
     "data": {
      "text/plain": [
       "{w: 14 - x}"
      ]
     },
     "metadata": {},
     "output_type": "display_data"
    },
    {
     "data": {
      "text/plain": [
       "{x: y - 1}"
      ]
     },
     "metadata": {},
     "output_type": "display_data"
    },
    {
     "data": {
      "text/plain": [
       "{x: z + 9}"
      ]
     },
     "metadata": {},
     "output_type": "display_data"
    },
    {
     "data": {
      "text/plain": [
       "{x: 25/2}"
      ]
     },
     "execution_count": 532,
     "metadata": {},
     "output_type": "execute_result"
    }
   ],
   "source": [
    "e1 = [w + x -14]\n",
    "display(sym.solve(e1))\n",
    "e2 = [14 - x + y - 15]\n",
    "display(sym.solve(e2))\n",
    "e3 = [x + 1 - z -10]\n",
    "display(sym.solve(e3))\n",
    "e4 = [x - 9 + x -16]\n",
    "sym.solve(e4,x)"
   ]
  },
  {
   "cell_type": "code",
   "execution_count": 603,
   "metadata": {},
   "outputs": [
    {
     "data": {
      "image/png": "[encoded data removed]",
      "text/plain": [
       "<Figure size 432x288 with 1 Axes>"
      ]
     },
     "metadata": {
      "needs_background": "light"
     },
     "output_type": "display_data"
    }
   ],
   "source": [
    "# y = mx + b ( draw line using formula )\n",
    "\n",
    "x = [-5,5]\n",
    "m = [1,1]\n",
    "b = [14,16]\n",
    "\n",
    "for i in range(0,len(m)):\n",
    "    y = m[i]*np.array(x) + b[i]\n",
    "    plt.plot(x,y,label='%sx + %s' %(m[i],b[i]))\n",
    "    \n",
    "# plt.axis('square')\n",
    "# plt.grid()\n",
    "# plt.xlim(x)\n",
    "# plt.ylim(x)\n",
    "\n",
    "# axis = plt.gca()\n",
    "# plt.plot(axis.get_xlim(),[0,0],'k--')\n",
    "# plt.plot([0,0],axis.get_ylim(),'k--')\n",
    "\n",
    "plt.legend()\n",
    "plt.show()"
   ]
  },
  {
   "cell_type": "code",
   "execution_count": 280,
   "metadata": {},
   "outputs": [
    {
     "name": "stdout",
     "output_type": "stream",
     "text": [
      "[{x: 14 - y}]\n"
     ]
    }
   ],
   "source": [
    "expr1 = x + y - 14\n",
    "listy = sym.solve(expr1)\n",
    "\n",
    "print(listy)"
   ]
  },
  {
   "cell_type": "code",
   "execution_count": 356,
   "metadata": {},
   "outputs": [
    {
     "name": "stdout",
     "output_type": "stream",
     "text": [
      "x + y - 14\n",
      "['x', ' ', '+', ' ', 'y', ' ', '-', ' ', '1', '4']\n",
      "10\n",
      "6\n"
     ]
    }
   ],
   "source": [
    "expr1 = x + y - 14\n",
    "stringy = str(expr1)\n",
    "listy = list(range(len(stringy)))\n",
    "\n",
    "print(expr1)\n",
    "for i in range(len(stringy)):\n",
    "    listy[i] = stringy[i]\n",
    "print(listy)\n",
    "\n",
    "print(len(listy))\n",
    "for li in listy:\n",
    "    if li == ' ':\n",
    "        listy.remove(li)\n",
    "print(len(listy))\n",
    "# mynewlist = [s for s in listy if s.isdigit()] # check to see if item in list is int\n",
    "# print(mynewlist)"
   ]
  },
  {
   "cell_type": "code",
   "execution_count": 406,
   "metadata": {},
   "outputs": [
    {
     "name": "stdout",
     "output_type": "stream",
     "text": [
      "['[', '{', 'x', ':', ' ', '1', '4', ' ', '-', ' ', 'y', '}', ']']\n",
      "[{x: 14 - y}]\n"
     ]
    }
   ],
   "source": [
    "ansstr = str(sym.solve(expr1))\n",
    "anslist = list(ansstr)\n",
    "print(anslist)\n",
    "print(ansstr)\n",
    "\n",
    "listslist = [ansstr, anslist, ans]\n",
    "\n"
   ]
  },
  {
   "cell_type": "code",
   "execution_count": 592,
   "metadata": {},
   "outputs": [],
   "source": [
    "\n",
    "\n",
    "expr1 = [w + x -14]\n",
    "expr2 = [y - z -10]\n",
    "expr3 = [w + y -15]\n",
    "expr4 = [x - z -16]\n",
    "\n",
    "# sol = sym.expand(expr1+expr2+expr3+expr4)\n",
    "# nonsol= [expr1,expr2,expr3,expr4]\n",
    "\n",
    "\n",
    "# print(sol)\n",
    "# print( sym.expand(expr1*expr2))\n",
    "# display(Math( sym.latex(sym.expand(sol))))\n",
    "\n",
    "# display(Math( sym.latex(sym.solve(nonsol[1]))))\n",
    "# nonsol[0] = sym.solve(nonsol[1])\n",
    "# display(nonsol)\n",
    "\n",
    "\n"
   ]
  },
  {
   "cell_type": "code",
   "execution_count": 690,
   "metadata": {},
   "outputs": [
    {
     "data": {
      "text/plain": [
       "[0, 1, 2, 3, 4, 5, 6, 7, 8, 9, 10, 11, 12, 13, 14]"
      ]
     },
     "execution_count": 690,
     "metadata": {},
     "output_type": "execute_result"
    }
   ],
   "source": [
    "cool = list(range(15))\n",
    "cool"
   ]
  },
  {
   "cell_type": "code",
   "execution_count": 651,
   "metadata": {},
   "outputs": [
    {
     "data": {
      "image/png": "[encoded data removed]",
      "text/plain": [
       "<Figure size 432x288 with 1 Axes>"
      ]
     },
     "metadata": {
      "needs_background": "light"
     },
     "output_type": "display_data"
    }
   ],
   "source": [
    "# first exercise.independent\n",
    "\n",
    "x = sym.symbols('x')\n",
    "# y = sym.sqrt(sym.Abs(x))\n",
    "y = 14 - x\n",
    "\n",
    "for pnti in range(15):\n",
    "    plt.plot([0,pnti],[0,y.subs(x,pnti)])\n",
    "\n",
    "plt.xlabel('x')\n",
    "plt.ylabel('y')\n",
    "\n",
    "plt.show()"
   ]
  },
  {
   "cell_type": "code",
   "execution_count": 712,
   "metadata": {},
   "outputs": [
    {
     "data": {
      "text/latex": [
       "$\\displaystyle 0 + 14 = 14$"
      ],
      "text/plain": [
       "<IPython.core.display.Math object>"
      ]
     },
     "metadata": {},
     "output_type": "display_data"
    },
    {
     "data": {
      "text/latex": [
       "$\\displaystyle 1 + 13 = 14$"
      ],
      "text/plain": [
       "<IPython.core.display.Math object>"
      ]
     },
     "metadata": {},
     "output_type": "display_data"
    },
    {
     "data": {
      "text/latex": [
       "$\\displaystyle 2 + 12 = 14$"
      ],
      "text/plain": [
       "<IPython.core.display.Math object>"
      ]
     },
     "metadata": {},
     "output_type": "display_data"
    },
    {
     "data": {
      "text/latex": [
       "$\\displaystyle 3 + 11 = 14$"
      ],
      "text/plain": [
       "<IPython.core.display.Math object>"
      ]
     },
     "metadata": {},
     "output_type": "display_data"
    },
    {
     "data": {
      "text/latex": [
       "$\\displaystyle 4 + 10 = 14$"
      ],
      "text/plain": [
       "<IPython.core.display.Math object>"
      ]
     },
     "metadata": {},
     "output_type": "display_data"
    },
    {
     "data": {
      "text/latex": [
       "$\\displaystyle 5 + 9 = 14$"
      ],
      "text/plain": [
       "<IPython.core.display.Math object>"
      ]
     },
     "metadata": {},
     "output_type": "display_data"
    },
    {
     "data": {
      "text/latex": [
       "$\\displaystyle 6 + 8 = 14$"
      ],
      "text/plain": [
       "<IPython.core.display.Math object>"
      ]
     },
     "metadata": {},
     "output_type": "display_data"
    },
    {
     "data": {
      "text/latex": [
       "$\\displaystyle 7 + 7 = 14$"
      ],
      "text/plain": [
       "<IPython.core.display.Math object>"
      ]
     },
     "metadata": {},
     "output_type": "display_data"
    },
    {
     "data": {
      "text/latex": [
       "$\\displaystyle 8 + 6 = 14$"
      ],
      "text/plain": [
       "<IPython.core.display.Math object>"
      ]
     },
     "metadata": {},
     "output_type": "display_data"
    },
    {
     "data": {
      "text/latex": [
       "$\\displaystyle 9 + 5 = 14$"
      ],
      "text/plain": [
       "<IPython.core.display.Math object>"
      ]
     },
     "metadata": {},
     "output_type": "display_data"
    },
    {
     "data": {
      "text/latex": [
       "$\\displaystyle 10 + 4 = 14$"
      ],
      "text/plain": [
       "<IPython.core.display.Math object>"
      ]
     },
     "metadata": {},
     "output_type": "display_data"
    },
    {
     "data": {
      "text/latex": [
       "$\\displaystyle 11 + 3 = 14$"
      ],
      "text/plain": [
       "<IPython.core.display.Math object>"
      ]
     },
     "metadata": {},
     "output_type": "display_data"
    },
    {
     "data": {
      "text/latex": [
       "$\\displaystyle 12 + 2 = 14$"
      ],
      "text/plain": [
       "<IPython.core.display.Math object>"
      ]
     },
     "metadata": {},
     "output_type": "display_data"
    },
    {
     "data": {
      "text/latex": [
       "$\\displaystyle 13 + 1 = 14$"
      ],
      "text/plain": [
       "<IPython.core.display.Math object>"
      ]
     },
     "metadata": {},
     "output_type": "display_data"
    },
    {
     "name": "stdout",
     "output_type": "stream",
     "text": [
      "[-9, 5, 4, 3, 2, 1, 0, -1, -2, -3]\n",
      "[0, 14, 13, 12, 11, 10, 9, 8, 7, 6, 5, 4, 3, 2, 1]\n"
     ]
    }
   ],
   "source": [
    "expr_xy = x+y\n",
    "expr_xz = x+z\n",
    "expr_zr = z-r\n",
    "z_val = list(range(15))\n",
    "r_val = list(range(10))\n",
    "negnum = [15,14,13,12,11,10,9,8,7,6,5,4,3,2,1]\n",
    "for xi in range(1,15):\n",
    "    display(Math('%s + %s = %s'%(xi-1,negnum[xi],expr_xy.subs({x:xi,y:xi}))))\n",
    "    for zi in range(1,15):\n",
    "        if expr_xz.subs({x:xi,z:zi}) == 15:\n",
    "            z_val[xi] = zi\n",
    "      \n",
    "for ri in range(len(r_val)):\n",
    "    r_val[ri] = expr_zr.subs({z:z_val[ri]})\n",
    "\n",
    "for ri in range(len(r_val)):\n",
    "    for zi in range(len(r_val)):\n",
    "        r_val[ri]\n",
    "    \n",
    "    \n",
    "print(r_val)    \n",
    "print(z_val)\n",
    "\n",
    "    \n",
    "    "
   ]
  },
  {
   "cell_type": "code",
   "execution_count": 860,
   "metadata": {},
   "outputs": [
    {
     "data": {
      "text/plain": [
       "array([[0., 0., 0., 0., 0., 0., 0., 0., 0., 0., 0., 0., 0., 0., 0., 0.],\n",
       "       [0., 0., 0., 0., 0., 0., 0., 0., 0., 0., 0., 0., 0., 0., 0., 0.],\n",
       "       [0., 0., 0., 0., 0., 0., 0., 0., 0., 0., 0., 0., 0., 0., 0., 0.],\n",
       "       [0., 0., 0., 0., 0., 0., 0., 0., 0., 0., 0., 0., 0., 0., 0., 0.],\n",
       "       [0., 0., 0., 0., 0., 0., 0., 0., 0., 0., 0., 0., 0., 0., 0., 0.],\n",
       "       [0., 0., 0., 0., 0., 0., 0., 0., 0., 0., 0., 0., 0., 0., 0., 0.],\n",
       "       [0., 0., 0., 0., 0., 0., 0., 0., 0., 0., 0., 0., 0., 0., 0., 0.],\n",
       "       [0., 0., 0., 0., 0., 0., 0., 0., 0., 0., 0., 0., 0., 0., 0., 0.],\n",
       "       [0., 0., 0., 0., 0., 0., 0., 0., 0., 0., 0., 0., 0., 0., 0., 0.],\n",
       "       [0., 0., 0., 0., 0., 0., 0., 0., 0., 0., 0., 0., 0., 0., 0., 0.],\n",
       "       [0., 0., 0., 0., 0., 0., 0., 0., 0., 0., 0., 0., 0., 0., 0., 0.],\n",
       "       [0., 0., 0., 0., 0., 0., 0., 0., 0., 0., 0., 0., 0., 0., 0., 0.],\n",
       "       [0., 0., 0., 0., 0., 0., 0., 0., 0., 0., 0., 0., 0., 0., 0., 0.],\n",
       "       [0., 0., 0., 0., 0., 0., 0., 0., 0., 0., 0., 0., 0., 0., 0., 0.],\n",
       "       [0., 0., 0., 0., 0., 0., 0., 0., 0., 0., 0., 0., 0., 0., 0., 0.],\n",
       "       [0., 0., 0., 0., 0., 0., 0., 0., 0., 0., 0., 0., 0., 0., 0., 0.],\n",
       "       [0., 0., 0., 0., 0., 0., 0., 0., 0., 0., 0., 0., 0., 0., 0., 0.],\n",
       "       [0., 0., 0., 0., 0., 0., 0., 0., 0., 0., 0., 0., 0., 0., 0., 0.],\n",
       "       [0., 0., 0., 0., 0., 0., 0., 0., 0., 0., 0., 0., 0., 0., 0., 0.],\n",
       "       [0., 0., 0., 0., 0., 0., 0., 0., 0., 0., 0., 0., 0., 0., 0., 0.],\n",
       "       [0., 0., 0., 0., 0., 0., 0., 0., 0., 0., 0., 0., 0., 0., 0., 0.],\n",
       "       [0., 0., 0., 0., 0., 0., 0., 0., 0., 0., 0., 0., 0., 0., 0., 0.],\n",
       "       [0., 0., 0., 0., 0., 0., 0., 0., 0., 0., 0., 0., 0., 0., 0., 0.],\n",
       "       [0., 0., 0., 0., 0., 0., 0., 0., 0., 0., 0., 0., 0., 0., 0., 0.],\n",
       "       [0., 0., 0., 0., 0., 0., 0., 0., 0., 0., 0., 0., 0., 0., 0., 0.],\n",
       "       [0., 0., 0., 0., 0., 0., 0., 0., 0., 0., 0., 0., 0., 0., 0., 0.],\n",
       "       [0., 0., 0., 0., 0., 0., 0., 0., 0., 0., 0., 0., 0., 0., 0., 0.],\n",
       "       [0., 0., 0., 0., 0., 0., 0., 0., 0., 0., 0., 0., 0., 0., 0., 0.],\n",
       "       [0., 0., 0., 0., 0., 0., 0., 0., 0., 0., 0., 0., 0., 0., 0., 0.],\n",
       "       [0., 0., 0., 0., 0., 0., 0., 0., 0., 0., 0., 0., 0., 0., 0., 0.],\n",
       "       [0., 0., 0., 0., 0., 0., 0., 0., 0., 0., 0., 0., 0., 0., 0., 0.],\n",
       "       [0., 0., 0., 0., 0., 0., 0., 0., 0., 0., 0., 0., 0., 0., 0., 0.],\n",
       "       [0., 0., 0., 0., 0., 0., 0., 0., 0., 0., 0., 0., 0., 0., 0., 0.],\n",
       "       [0., 0., 0., 0., 0., 0., 0., 0., 0., 0., 0., 0., 0., 0., 0., 0.],\n",
       "       [0., 0., 0., 0., 0., 0., 0., 0., 0., 0., 0., 0., 0., 0., 0., 0.],\n",
       "       [0., 0., 0., 0., 0., 0., 0., 0., 0., 0., 0., 0., 0., 0., 0., 0.],\n",
       "       [0., 0., 0., 0., 0., 0., 0., 0., 0., 0., 0., 0., 0., 0., 0., 0.],\n",
       "       [0., 0., 0., 0., 0., 0., 0., 0., 0., 0., 0., 0., 0., 0., 0., 0.],\n",
       "       [0., 0., 0., 0., 0., 0., 0., 0., 0., 0., 0., 0., 0., 0., 0., 0.],\n",
       "       [0., 0., 0., 0., 0., 0., 0., 0., 0., 0., 0., 0., 0., 0., 0., 0.],\n",
       "       [0., 0., 0., 0., 0., 0., 0., 0., 0., 0., 0., 0., 0., 0., 0., 0.],\n",
       "       [0., 0., 0., 0., 0., 0., 0., 0., 0., 0., 0., 0., 0., 0., 0., 0.],\n",
       "       [0., 0., 0., 0., 0., 0., 0., 0., 0., 0., 0., 0., 0., 0., 0., 0.],\n",
       "       [0., 0., 0., 0., 0., 0., 0., 0., 0., 0., 0., 0., 0., 0., 0., 0.],\n",
       "       [0., 0., 0., 0., 0., 0., 0., 0., 0., 0., 0., 0., 0., 0., 0., 0.],\n",
       "       [0., 0., 0., 0., 0., 0., 0., 0., 0., 0., 0., 0., 0., 0., 0., 0.],\n",
       "       [0., 0., 0., 0., 0., 0., 0., 0., 0., 0., 0., 0., 0., 0., 0., 0.],\n",
       "       [0., 0., 0., 0., 0., 0., 0., 0., 0., 0., 0., 0., 0., 0., 0., 0.],\n",
       "       [0., 0., 0., 0., 0., 0., 0., 0., 0., 0., 0., 0., 0., 0., 0., 0.],\n",
       "       [0., 0., 0., 0., 0., 0., 0., 0., 0., 0., 0., 0., 0., 0., 0., 0.]])"
      ]
     },
     "execution_count": 860,
     "metadata": {},
     "output_type": "execute_result"
    }
   ],
   "source": [
    "numrange = range(50,10)\n",
    "mat = np.zeros([50,16])\n",
    "for rowi in numrange:\n",
    "    for coli in numrange:\n",
    "        mat[rowi,coli] = (rowi+1)*(coli+1)\n",
    "mat"
   ]
  },
  {
   "cell_type": "code",
   "execution_count": 878,
   "metadata": {},
   "outputs": [
    {
     "name": "stdout",
     "output_type": "stream",
     "text": [
      " x 0 y 14 z 2 r 8\n",
      "14\n",
      "16\n",
      "10\n",
      "['x', 0, 'y', 14, 'z', 2, 'r', 8]\n"
     ]
    },
    {
     "ename": "UnboundLocalError",
     "evalue": "local variable 'cycles' referenced before assignment",
     "output_type": "error",
     "traceback": [
      "\u001b[1;31m---------------------------------------------------------------------------\u001b[0m",
      "\u001b[1;31mUnboundLocalError\u001b[0m                         Traceback (most recent call last)",
      "\u001b[1;32m<ipython-input-878-f2bb1f0972ea>\u001b[0m in \u001b[0;36m<module>\u001b[1;34m\u001b[0m\n\u001b[0;32m     32\u001b[0m         \u001b[1;32mif\u001b[0m \u001b[0mxi\u001b[0m \u001b[1;33m+\u001b[0m \u001b[0myi\u001b[0m \u001b[1;33m==\u001b[0m \u001b[1;36m14\u001b[0m\u001b[1;33m:\u001b[0m\u001b[1;33m\u001b[0m\u001b[1;33m\u001b[0m\u001b[0m\n\u001b[0;32m     33\u001b[0m \u001b[1;31m#             print(xi,yi)\u001b[0m\u001b[1;33m\u001b[0m\u001b[1;33m\u001b[0m\u001b[1;33m\u001b[0m\u001b[0m\n\u001b[1;32m---> 34\u001b[1;33m             \u001b[0mfind_rz\u001b[0m\u001b[1;33m(\u001b[0m\u001b[0myi\u001b[0m\u001b[1;33m)\u001b[0m\u001b[1;33m\u001b[0m\u001b[1;33m\u001b[0m\u001b[0m\n\u001b[0m\u001b[0;32m     35\u001b[0m             \u001b[0mxy_range\u001b[0m\u001b[1;33m[\u001b[0m\u001b[1;36m0\u001b[0m\u001b[1;33m]\u001b[0m \u001b[1;33m=\u001b[0m \u001b[0mxi\u001b[0m\u001b[1;33m\u001b[0m\u001b[1;33m\u001b[0m\u001b[0m\n\u001b[0;32m     36\u001b[0m             \u001b[0myz_range\u001b[0m\u001b[1;33m[\u001b[0m\u001b[1;36m0\u001b[0m\u001b[1;33m]\u001b[0m \u001b[1;33m=\u001b[0m \u001b[0myi\u001b[0m\u001b[1;33m\u001b[0m\u001b[1;33m\u001b[0m\u001b[0m\n",
      "\u001b[1;32m<ipython-input-878-f2bb1f0972ea>\u001b[0m in \u001b[0;36mfind_rz\u001b[1;34m(yz)\u001b[0m\n\u001b[0;32m     23\u001b[0m \u001b[1;31m#                         mat[ri,coli] = total[ri]\u001b[0m\u001b[1;33m\u001b[0m\u001b[1;33m\u001b[0m\u001b[1;33m\u001b[0m\u001b[0m\n\u001b[0;32m     24\u001b[0m                     \u001b[0mprint\u001b[0m\u001b[1;33m(\u001b[0m\u001b[0mtotal\u001b[0m\u001b[1;33m)\u001b[0m\u001b[1;33m\u001b[0m\u001b[1;33m\u001b[0m\u001b[0m\n\u001b[1;32m---> 25\u001b[1;33m                     \u001b[0mcycles\u001b[0m \u001b[1;33m=\u001b[0m \u001b[0mcycles\u001b[0m\u001b[1;33m+\u001b[0m\u001b[1;36m1\u001b[0m\u001b[1;33m\u001b[0m\u001b[1;33m\u001b[0m\u001b[0m\n\u001b[0m\u001b[0;32m     26\u001b[0m                     \u001b[0mprint\u001b[0m\u001b[1;33m(\u001b[0m\u001b[0mcycles\u001b[0m\u001b[1;33m)\u001b[0m\u001b[1;33m\u001b[0m\u001b[1;33m\u001b[0m\u001b[0m\n\u001b[0;32m     27\u001b[0m \u001b[1;31m#         else:\u001b[0m\u001b[1;33m\u001b[0m\u001b[1;33m\u001b[0m\u001b[1;33m\u001b[0m\u001b[0m\n",
      "\u001b[1;31mUnboundLocalError\u001b[0m: local variable 'cycles' referenced before assignment"
     ]
    }
   ],
   "source": [
    "\n",
    "mat = np.zeros([50,8])\n",
    "numrange = range(0,10)\n",
    "cycles = [0000000]\n",
    "xy_range = list(range(1,17)) # x value 15\n",
    "yz_range = list(range(1,17)) # y value 17\n",
    "xr_range = list(range(1,17)) # r value 15\n",
    "z_val = list(range(1,17))\n",
    "xr_expr = x + r - 15\n",
    "\n",
    "def find_rz(yz):\n",
    "    for zi in range(1,17):\n",
    "#         print('test')\n",
    "        if yz + zi == 15 and xy_range[0] + yz_range[0] == 14:\n",
    "            z_val[zi] = zi\n",
    "            for ri in range(len(xr_range)):\n",
    "                if ri + zi == 10 and yz + zi == 15 and xy_range[0] + yz_range[0] == 14:\n",
    "                    print(' x ' + str(xy_range[0]) + ' y ' + str(yz_range[0]) + ' z ' + str(zi) + ' r ' + str(ri))\n",
    "                    print(xy_range[0] + yz_range[0])\n",
    "                    print(yz_range[0] + zi)\n",
    "                    print(zi + ri)\n",
    "                    total = ['x', xy_range[0], 'y', yz_range[0], 'z', zi, 'r', ri]\n",
    "#                     for coli in numrange:\n",
    "#                         mat[ri,coli] = total[ri]\n",
    "                    print(total)\n",
    "                    cycles = cycles+1\n",
    "                    print(cycles)\n",
    "#         else:\n",
    "#             return\n",
    "\n",
    "for xi in range(len(xy_range)):\n",
    "    for yi in range(len(xy_range)):\n",
    "        if xi + yi == 14:\n",
    "#             print(xi,yi)\n",
    "            find_rz(yi)\n",
    "            xy_range[0] = xi\n",
    "            yz_range[0] = yi\n",
    "#             cycles =+xi\n",
    "\n",
    "# for ri in range(len(xr_range)):\n",
    "#     for xi in range(len(xr_range)):\n",
    "#         if ri + xy_range[xi] == 15:\n",
    "#             print(ri,xy_range[xi])\n",
    "#             xr_range[ri] = ri\n",
    "            \n",
    "# print(xy_range)\n",
    "# print(yz_range)\n",
    "# print(xr_range)\n",
    "# print(x_val,y_val)\n",
    "print(xy_range)\n",
    "print(cycles)\n",
    "# print(len(yz_range))"
   ]
  },
  {
   "cell_type": "code",
   "execution_count": 822,
   "metadata": {},
   "outputs": [
    {
     "name": "stdout",
     "output_type": "stream",
     "text": [
      "x + 14\n",
      "x + 2\n",
      "x + 3\n",
      "x + 4\n",
      "x + 5\n",
      "x + 6\n",
      "x + 7\n",
      "x + 8\n",
      "x + 9\n",
      "x + 10\n",
      "x + 11\n",
      "x + 12\n",
      "x + 13\n",
      "x + 14\n",
      "x + 15\n",
      "x + 16\n"
     ]
    }
   ],
   "source": [
    "for ri in range(len(xy_range)):\n",
    "    print(xr_expr.subs({r:xy_range[ri]}))\n",
    "#         print(ri)"
   ]
  },
  {
   "cell_type": "code",
   "execution_count": 867,
   "metadata": {},
   "outputs": [
    {
     "name": "stdout",
     "output_type": "stream",
     "text": [
      "[0, 2, 3, 4, 5, 6, 7, 8, 9, 10, 11, 12, 13, 14, 15, 16]\n",
      "[14, 2, 3, 4, 5, 6, 7, 8, 9, 10, 11, 12, 13, 14, 15, 16]\n",
      "[1, 2, 2, 4, 5, 6, 7, 8, 9, 10, 11, 12, 13, 14, 15, 16]\n",
      "8\n"
     ]
    }
   ],
   "source": [
    "print(xy_range)\n",
    "print(yz_range)\n",
    "print(z_val)\n",
    "total = ['x', str(xy_range[0]), 'y', str(yz_range[0]), 'z', str(zi), 'r', str(ri)]\n",
    "print(len(total))"
   ]
  },
  {
   "cell_type": "code",
   "execution_count": 1209,
   "metadata": {},
   "outputs": [
    {
     "name": "stdout",
     "output_type": "stream",
     "text": [
      "52\n",
      "52\n",
      "52\n",
      "52\n",
      "52\n",
      "52\n",
      "52\n",
      "52\n",
      "52\n",
      "52\n",
      "52\n",
      "52\n",
      "52\n",
      "52\n",
      "52\n",
      "52\n",
      "52\n",
      "52\n",
      "52\n",
      "52\n",
      "52\n",
      "52\n",
      "52\n",
      "52\n",
      "52\n",
      "52\n",
      "52\n",
      "52\n",
      "52\n",
      "52\n",
      "54\n",
      "54\n",
      "54\n",
      "54\n",
      "54\n",
      "54\n",
      "54\n",
      "54\n",
      "54\n",
      "54\n",
      "54\n",
      "54\n",
      "54\n",
      "54\n",
      "54\n",
      "54\n",
      "54\n",
      "54\n",
      "54\n",
      "54\n",
      "54\n",
      "54\n",
      "54\n",
      "54\n",
      "54\n",
      "54\n",
      "54\n",
      "54\n"
     ]
    }
   ],
   "source": [
    "x = list(range(10))\n",
    "# y = list(range(10))\n",
    "w,x,y,z = sym.symbols('w,x,y,z')\n",
    "# expr1 = x + y - 14\n",
    "# expr2 = w - z -10\n",
    "# expr3 = x + w - 15\n",
    "expr4 = y - z -16\n",
    "iter_range = list(range(100))\n",
    "w = list(range(100))\n",
    "x = list(range(100))\n",
    "y = list(range(100))\n",
    "z = list(range(100))\n",
    "w_plus_y = list(range(100)) # w + y value\n",
    "sumexlist = (2*w[1] + 2*x[1] + 2*y[1] - 55)\n",
    "\n",
    "\n",
    "# for wi in w: # main loop\n",
    "#     for xi in x:\n",
    "#         for yi in y:\n",
    "#             for zi in z:\n",
    "#                 if 2*wi + xi + yi == 29:\n",
    "#                     print('yes')\n",
    "#                     if yi - zi == 10:\n",
    "#                         print('no')\n",
    "                        \n",
    "for wi in w: # main loop\n",
    "    for xi in x:\n",
    "        for yi in y:\n",
    "            for zi in z:\n",
    "                if 2*wi + xi + yi == 29 and yi - zi + xi == 26:\n",
    "#                     print('good')\n",
    "#                     if yi - zi == 10:\n",
    "                    print(2*xi + 2*yi -2*zi + 2*wi)\n",
    "                    \n",
    "\n",
    "        \n",
    "        \n",
    "# print(z)\n",
    "\n",
    "# for wi in w:\n",
    "#     for xi in x:\n",
    "#         if wi + xi == 14:\n",
    "#             print(wi,xi)\n",
    "    \n",
    "# print(y)\n",
    "\n"
   ]
  },
  {
   "cell_type": "code",
   "execution_count": 18,
   "metadata": {},
   "outputs": [
    {
     "data": {
      "text/plain": [
       "[27.5 - y]"
      ]
     },
     "metadata": {},
     "output_type": "display_data"
    },
    {
     "data": {
      "text/latex": [
       "$\\displaystyle 2 w + 2 x + 2 y - 2 z - 55$"
      ],
      "text/plain": [
       "2*w + 2*x + 2*y - 2*z - 55"
      ]
     },
     "metadata": {},
     "output_type": "display_data"
    }
   ],
   "source": [
    "iter_range = list(range(1,20))\n",
    "w,x,y,z = sym.symbols('w,x,y,z')\n",
    "sumexlist = (2*w + 2*x + 2*y -2*z -55)\n",
    "\n",
    "# w = [{w: 14 - x}]\n",
    "# x = x: y - 1}\n",
    "# y = [x + 1]\n",
    "# z =x - 9\n",
    "display(sym.solve(x + y - 27.5,x))\n",
    "display(sym.simplify(sumexlist))"
   ]
  },
  {
   "cell_type": "code",
   "execution_count": 12,
   "metadata": {},
   "outputs": [
    {
     "data": {
      "text/latex": [
       "$\\displaystyle \\operatorname{Poly}{\\left( 2 x + 2 y - 2 z + 2 w - 55, x, y, z, w, domain=\\mathbb{Z} \\right)}$"
      ],
      "text/plain": [
       "Poly(2*x + 2*y - 2*z + 2*w - 55, x, y, z, w, domain='ZZ')"
      ]
     },
     "execution_count": 12,
     "metadata": {},
     "output_type": "execute_result"
    }
   ],
   "source": [
    "sym.poly(sumexlist)"
   ]
  },
  {
   "cell_type": "code",
   "execution_count": 73,
   "metadata": {},
   "outputs": [
    {
     "name": "stdout",
     "output_type": "stream",
     "text": [
      "[[0, 0, 0], [1, 1, 0], [2, 4, 0], [3, 9, 0], [4, 16, 0], [5, 25, 0], [-5, 25, 0], [-4, 16, 0], [-3, 9, 0], [-2, 4, 0], [-1, 1, 0]]\n"
     ]
    }
   ],
   "source": [
    "xcoords = list(range(11))\n",
    "xrange = range(-5,6)\n",
    "# y = \n",
    "\n",
    "\n",
    "for xi in (xrange):\n",
    "    xy = list(range(3))\n",
    "    xy[0] = xi\n",
    "    xy[1] = xi**2\n",
    "    xy[2] = 0\n",
    "    xcoords[xi] = xy\n",
    "#     print(x)\n",
    "print(xcoords)\n",
    "#     print(xi**2)\n",
    "#     xy[xi] = xi\n",
    "    \n",
    "#     print(xi,z[xi])\n",
    "    \n",
    "# xypoints\n"
   ]
  },
  {
   "cell_type": "code",
   "execution_count": 120,
   "metadata": {},
   "outputs": [
    {
     "name": "stdout",
     "output_type": "stream",
     "text": [
      "-2\n",
      "-1\n",
      "0\n",
      "1\n",
      "2\n",
      "[[0, 0], [1, 1], [2, 4], [-2, 4], [-1, 1]]\n",
      "None\n",
      "Updated List: [[-1, 1], [-2, 4], [2, 4], [1, 1], [0, 0]]\n"
     ]
    }
   ],
   "source": [
    "xcoords = list(range(5))\n",
    "xrange = range(-2,3)\n",
    "# y = \n",
    "\n",
    "\n",
    "for xi in (xrange):\n",
    "    xy = list(range(2))\n",
    "    xy[0] = xi\n",
    "    xy[1] = xi**2\n",
    "    xcoords[xi] = xy\n",
    "    print(xi)\n",
    "print(xcoords)\n",
    "#     print(xi**2)\n",
    "#     xy[xi] = xi\n",
    "    \n",
    "#     print(xi,z[xi])\n",
    "test = list(range(5))\n",
    "print(xcoords.reverse())\n",
    "print('Updated List:', xcoords)\n",
    "# print(xcoords[0::1])\n",
    "# print((xcoords[0::2]))"
   ]
  },
  {
   "cell_type": "code",
   "execution_count": 200,
   "metadata": {},
   "outputs": [
    {
     "name": "stdout",
     "output_type": "stream",
     "text": [
      "[-4, -1]\n",
      "[-1, 2]\n",
      "[0, -2]\n",
      "[-1, 2]\n",
      "[-4, -1]\n",
      "[[0, -2], [-1, 2], [-4, -1], 3, [-4, -1], [-1, 2]]\n",
      "None\n",
      "Updated List: [[-1, 2], [-4, -1], 3, [-4, -1], [-1, 2], [0, -2]]\n",
      "[[-0.5 -4. ]\n",
      " [-0.5 -2.5]\n",
      " [ 0.5 -2.5]\n",
      " [ 0.5 -4. ]]\n"
     ]
    }
   ],
   "source": [
    "xcoords = list(range(6))\n",
    "xrange = range(-2,3)\n",
    "# y = \n",
    "\n",
    "\n",
    "for xi in xrange:\n",
    "    xy = list(range(2))\n",
    "    xy[1] = xrange[-xi**2]\n",
    "    xy[0] = -xi**2\n",
    "    xcoords[xi] = xy\n",
    "    print(xy)\n",
    "print(xcoords)\n",
    "#     print(xi**2)\n",
    "#     xy[xi] = xi\n",
    "    \n",
    "#     print(xi,z[xi])\n",
    "test = list(range(5))\n",
    "print(xcoords.reverse())\n",
    "print('Updated List:', xcoords)\n",
    "print(y)"
   ]
  },
  {
   "cell_type": "code",
   "execution_count": 196,
   "metadata": {},
   "outputs": [
    {
     "name": "stdout",
     "output_type": "stream",
     "text": [
      "[-4, -1]\n",
      "[-1, 2]\n",
      "[0, -2]\n",
      "[-1, 2]\n",
      "[-4, -1]\n",
      "[[0, -2], [-1, 2], [-4, -1], 3, [-4, -1], [-1, 2]]\n",
      "None\n",
      "Updated List: [[-1, 2], [-4, -1], 3, [-4, -1], [-1, 2], [0, -2]]\n",
      "[[-0.5 -4. ]\n",
      " [-0.5 -2.5]\n",
      " [ 0.5 -2.5]\n",
      " [ 0.5 -4. ]]\n"
     ]
    }
   ],
   "source": [
    "xcoords = list(range(6))\n",
    "xrange = list(range(-2,3))\n",
    "# y = \n",
    "\n",
    "\n",
    "for xi in xrange:\n",
    "    xy = list(range(2))\n",
    "    xy[1] = xrange[-xi**2]\n",
    "    xy[0] = -xi**2\n",
    "    xcoords[xi] = xy\n",
    "    print(xy)\n",
    "print(xcoords)\n",
    "#     print(xi**2)\n",
    "#     xy[xi] = xi\n",
    "    \n",
    "#     print(xi,z[xi])\n",
    "test = list(range(5))\n",
    "print(xcoords.reverse())\n",
    "print('Updated List:', xcoords)\n",
    "print(y)\n"
   ]
  },
  {
   "cell_type": "code",
   "execution_count": 209,
   "metadata": {},
   "outputs": [
    {
     "data": {
      "text/latex": [
       "$\\displaystyle 3 x - 4 y$"
      ],
      "text/plain": [
       "3*x - 4*y"
      ]
     },
     "metadata": {},
     "output_type": "display_data"
    }
   ],
   "source": [
    "x,y = sym.symbols('x,y')\n",
    "expr = 3*x - 4*y\n",
    "display(sym.sympify(expr))"
   ]
  }
 ],
 "metadata": {
  "kernelspec": {
   "display_name": "Python 3",
   "language": "python",
   "name": "python3"
  },
  "language_info": {
   "codemirror_mode": {
    "name": "ipython",
    "version": 3
   },
   "file_extension": ".py",
   "mimetype": "text/x-python",
   "name": "python",
   "nbconvert_exporter": "python",
   "pygments_lexer": "ipython3",
   "version": "3.7.6"
  }
 },
 "nbformat": 4,
 "nbformat_minor": 4
}
